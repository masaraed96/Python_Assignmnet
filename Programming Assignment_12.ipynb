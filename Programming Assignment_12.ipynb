{
 "cells": [
  {
   "cell_type": "markdown",
   "metadata": {},
   "source": [
    "Q1) Write a Python program to Extract Unique values dictionary values?"
   ]
  },
  {
   "cell_type": "code",
   "execution_count": 1,
   "metadata": {},
   "outputs": [
    {
     "name": "stdout",
     "output_type": "stream",
     "text": [
      "unique values are {'Love', 'Big'}\n"
     ]
    }
   ],
   "source": [
    "unique_dict_values = lambda dictt: set(dictt.values())\n",
    "\n",
    "my_dictionery = {'Shawerma':'Love' , 'Pizza':'Big' , 'Ahmad':'Love' }\n",
    "print(f'unique values are {unique_dict_values(my_dictionery)}')"
   ]
  },
  {
   "cell_type": "markdown",
   "metadata": {},
   "source": [
    "Q2) Write a Python program to find the sum of all items in a dictionary?\n"
   ]
  },
  {
   "cell_type": "code",
   "execution_count": 2,
   "metadata": {},
   "outputs": [
    {
     "name": "stdout",
     "output_type": "stream",
     "text": [
      "sum of values is 6\n"
     ]
    }
   ],
   "source": [
    "sum_values = lambda dictt: sum(dictt.values())\n",
    "\n",
    "food_options = {'Shawerma':2 , 'Pizza':1 , 'Burger':3}\n",
    "print(f'sum of values is {sum_values(food_options)}')"
   ]
  },
  {
   "cell_type": "markdown",
   "metadata": {},
   "source": [
    "Q3) Write a Python program to Merging two Dictionaries?\n"
   ]
  },
  {
   "cell_type": "code",
   "execution_count": 3,
   "metadata": {},
   "outputs": [
    {
     "name": "stdout",
     "output_type": "stream",
     "text": [
      "merging dictioneries: {'Shawerma': 2, 'Pizza': 1, 'Ahmad': 'Love', 'Burger': 3}\n"
     ]
    }
   ],
   "source": [
    "merge_dicts = lambda dict1, dict2: {**dict1, **dict2}\n",
    "\n",
    "print(f'merging dictioneries: {merge_dicts(my_dictionery, food_options)}')"
   ]
  },
  {
   "cell_type": "markdown",
   "metadata": {},
   "source": [
    "Q4) Write a Python program to convert key-values list to flat dictionary?\n"
   ]
  },
  {
   "cell_type": "code",
   "execution_count": 15,
   "metadata": {},
   "outputs": [
    {
     "data": {
      "text/plain": [
       "{1: ['Shawerma', 'Pizza', 'Burger'],\n",
       " 2: ['Shawerma', 'Pizza', 'Burger'],\n",
       " 3: ['Shawerma', 'Pizza', 'Burger']}"
      ]
     },
     "execution_count": 15,
     "metadata": {},
     "output_type": "execute_result"
    }
   ],
   "source": [
    "flatten_dict = lambda dict_key, dict_value : dict.fromkeys(dict_key, dict_value)\n",
    "\n",
    "food_options = {'index': [1,2,3],\n",
    "                'food': ['Shawerma', 'Pizza', 'Burger']}\n",
    "flatten_dict(food_options['index'], food_options['food'])"
   ]
  },
  {
   "cell_type": "markdown",
   "metadata": {},
   "source": [
    "Q5) Write a Python program to insertion at the beginning in OrderedDict?\n"
   ]
  },
  {
   "cell_type": "code",
   "execution_count": 5,
   "metadata": {},
   "outputs": [
    {
     "data": {
      "text/plain": [
       "OrderedDict([(3, 'Burger'), (1, 'Shawerma'), (2, 'Pizza')])"
      ]
     },
     "execution_count": 5,
     "metadata": {},
     "output_type": "execute_result"
    }
   ],
   "source": [
    "def prepend(orderedDict, key,value):\n",
    "    orderedDict[key] = value\n",
    "    orderedDict.move_to_end(key,last=False)\n",
    "    return orderedDict\n",
    "    \n",
    "from collections import OrderedDict\n",
    "od = OrderedDict()\n",
    "od[1] = 'Shawerma'\n",
    "od[2] = 'Pizza'\n",
    "prepend(od,3,'Burger')"
   ]
  },
  {
   "cell_type": "markdown",
   "metadata": {},
   "source": [
    "Q6) Write a Python program to check order of character in string using OrderedDict()?\n"
   ]
  },
  {
   "cell_type": "code",
   "execution_count": 6,
   "metadata": {},
   "outputs": [],
   "source": [
    "#NAV\n",
    "        "
   ]
  },
  {
   "cell_type": "markdown",
   "metadata": {},
   "source": [
    "Q7) Write a Python program to sort Python Dictionaries by Key or Value?\n"
   ]
  },
  {
   "cell_type": "code",
   "execution_count": 7,
   "metadata": {},
   "outputs": [
    {
     "name": "stdout",
     "output_type": "stream",
     "text": [
      "sorting dictionery by key: [(1, 'Shawerma'), (2, 'Pizza'), (3, 'Burger')]\n",
      "sorting dictionery by value: [(3, 'Burger'), (2, 'Pizza'), (1, 'Shawerma')]\n"
     ]
    }
   ],
   "source": [
    "sort_dict_by_key = lambda dictt: sorted(dictt.items(), key=lambda x: x[0])\n",
    "sort_dict_by_value = lambda dictt: sorted(dictt.items(), key=lambda x: x[1])\n",
    "\n",
    "print(f'sorting dictionery by key: {sort_dict_by_key(od)}')\n",
    "print(f'sorting dictionery by value: {sort_dict_by_value(od)}')"
   ]
  }
 ],
 "metadata": {
  "kernelspec": {
   "display_name": "Python 3",
   "language": "python",
   "name": "python3"
  },
  "language_info": {
   "codemirror_mode": {
    "name": "ipython",
    "version": 3
   },
   "file_extension": ".py",
   "mimetype": "text/x-python",
   "name": "python",
   "nbconvert_exporter": "python",
   "pygments_lexer": "ipython3",
   "version": "3.8.5"
  }
 },
 "nbformat": 4,
 "nbformat_minor": 4
}
