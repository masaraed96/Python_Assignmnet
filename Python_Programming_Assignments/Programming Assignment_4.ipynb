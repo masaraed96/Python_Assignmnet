{
 "cells": [
  {
   "cell_type": "markdown",
   "metadata": {},
   "source": [
    "Q1) Write a Python Program to Find the Factorial of a Number?"
   ]
  },
  {
   "cell_type": "code",
   "execution_count": 1,
   "metadata": {},
   "outputs": [
    {
     "name": "stdout",
     "output_type": "stream",
     "text": [
      "factorial 3 = 6\n"
     ]
    }
   ],
   "source": [
    "def factorial(x):\n",
    "    factorial = 1\n",
    "    for i in range(1, x+1):\n",
    "        factorial *=i\n",
    "    return factorial\n",
    "\n",
    "print(f'factorial 3 = {factorial(3)}')   "
   ]
  },
  {
   "cell_type": "markdown",
   "metadata": {},
   "source": [
    "Q2) Write a Python Program to Display the multiplication Table?"
   ]
  },
  {
   "cell_type": "code",
   "execution_count": 2,
   "metadata": {},
   "outputs": [
    {
     "name": "stdout",
     "output_type": "stream",
     "text": [
      "1 x 5 = 5\n",
      "2 x 5 = 10\n",
      "3 x 5 = 15\n",
      "4 x 5 = 20\n",
      "5 x 5 = 25\n",
      "6 x 5 = 30\n",
      "7 x 5 = 35\n",
      "8 x 5 = 40\n",
      "9 x 5 = 45\n",
      "10 x 5 = 50\n"
     ]
    }
   ],
   "source": [
    "def mult_table(x):\n",
    "    for i in range(1,11):\n",
    "        print(f'{i} x {x} = {i*x}')\n",
    "        \n",
    "mult_table(5)    "
   ]
  },
  {
   "cell_type": "markdown",
   "metadata": {},
   "source": [
    "Q3) Write a Python Program to Print the Fibonacci sequence?"
   ]
  },
  {
   "cell_type": "code",
   "execution_count": 3,
   "metadata": {},
   "outputs": [
    {
     "name": "stdout",
     "output_type": "stream",
     "text": [
      "1\n",
      "2\n",
      "3\n",
      "5\n",
      "8\n",
      "13\n",
      "21\n",
      "34\n",
      "55\n"
     ]
    }
   ],
   "source": [
    "def fibonacci(x):\n",
    "    first = 0\n",
    "    second = 1\n",
    "    for i in range(0,x-1):\n",
    "        result = first + second\n",
    "        first = second\n",
    "        second = result\n",
    "        print(result)\n",
    "fibonacci(10)"
   ]
  },
  {
   "cell_type": "markdown",
   "metadata": {},
   "source": [
    "Q4) Write a Python Program to Check Armstrong Number?"
   ]
  },
  {
   "cell_type": "code",
   "execution_count": 4,
   "metadata": {},
   "outputs": [
    {
     "name": "stdout",
     "output_type": "stream",
     "text": [
      "120 is an armstrong number? False\n",
      "153 is an armstrong number? True\n"
     ]
    }
   ],
   "source": [
    "#the number that is sum of its digits\n",
    "def check_armstrong_num(x):\n",
    "    copy_x = x\n",
    "    digits = len(str(x))\n",
    "    result = 0\n",
    "    for i in range(digits): \n",
    "        digit = copy_x%10\n",
    "        result += (digit**3)\n",
    "        copy_x = copy_x//10\n",
    "    if result == x:\n",
    "        return True\n",
    "    return False\n",
    "\n",
    "print(f'120 is an armstrong number? {check_armstrong_num(120)}')\n",
    "print(f'153 is an armstrong number? {check_armstrong_num(153)}')"
   ]
  },
  {
   "cell_type": "markdown",
   "metadata": {},
   "source": [
    "Q5) Write a Python Program to Find Armstrong Number in an Interval?"
   ]
  },
  {
   "cell_type": "code",
   "execution_count": 5,
   "metadata": {},
   "outputs": [
    {
     "name": "stdout",
     "output_type": "stream",
     "text": [
      "armstrong numbers between [100,1000] are: [153, 370, 371, 407]\n"
     ]
    }
   ],
   "source": [
    "def find_armstrong_in_interval(start,end):\n",
    "    armstrong_numbers = []\n",
    "    for i in range(start, end+1):\n",
    "        if check_armstrong_num(i):\n",
    "            armstrong_numbers.append(i)\n",
    "    return None if not armstrong_numbers else armstrong_numbers\n",
    "\n",
    "print(f'armstrong numbers between [100,1000] are: {find_armstrong_in_interval(100,1000)}')  "
   ]
  },
  {
   "cell_type": "markdown",
   "metadata": {},
   "source": [
    "Q6) Write a Python Program to Find the Sum of Natural Numbers?"
   ]
  },
  {
   "cell_type": "code",
   "execution_count": 6,
   "metadata": {},
   "outputs": [
    {
     "name": "stdout",
     "output_type": "stream",
     "text": [
      "sum of natural numbers until 4 is: 10.0\n"
     ]
    }
   ],
   "source": [
    "#sum of naturak number from 1 to n is n*(n+1)/2\n",
    "natural_number_sum = lambda n: n*(n+1)/2\n",
    "\n",
    "print(f'sum of natural numbers until 4 is: {natural_number_sum(4)}')"
   ]
  }
 ],
 "metadata": {
  "kernelspec": {
   "display_name": "Python 3",
   "language": "python",
   "name": "python3"
  },
  "language_info": {
   "codemirror_mode": {
    "name": "ipython",
    "version": 3
   },
   "file_extension": ".py",
   "mimetype": "text/x-python",
   "name": "python",
   "nbconvert_exporter": "python",
   "pygments_lexer": "ipython3",
   "version": "3.8.5"
  }
 },
 "nbformat": 4,
 "nbformat_minor": 4
}
