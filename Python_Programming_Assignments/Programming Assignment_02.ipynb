{
 "cells": [
  {
   "cell_type": "markdown",
   "metadata": {},
   "source": [
    "Q1) Write a Python program to convert kilometers to miles?"
   ]
  },
  {
   "cell_type": "code",
   "execution_count": 1,
   "metadata": {},
   "outputs": [
    {
     "name": "stdout",
     "output_type": "stream",
     "text": [
      "1 km is 0.621371 miles\n"
     ]
    }
   ],
   "source": [
    "km_to_mile = lambda km: km * 0.621371\n",
    "print(f'1 km is {km_to_mile(1)} miles')"
   ]
  },
  {
   "cell_type": "markdown",
   "metadata": {},
   "source": [
    "Q2) Write a Python program to convert Celsius to Fahrenheit?"
   ]
  },
  {
   "cell_type": "code",
   "execution_count": 3,
   "metadata": {},
   "outputs": [
    {
     "name": "stdout",
     "output_type": "stream",
     "text": [
      "0 celsius is 32 fahre\n"
     ]
    }
   ],
   "source": [
    "celsius_to_fahre = lambda c : (c * (9//5)) + 32\n",
    "print(f'0 celsius is {celsius_to_fahre(0)} fahre')"
   ]
  },
  {
   "cell_type": "markdown",
   "metadata": {},
   "source": [
    "Q3) Write a Python program to display calendar?"
   ]
  },
  {
   "cell_type": "code",
   "execution_count": 18,
   "metadata": {},
   "outputs": [
    {
     "name": "stdout",
     "output_type": "stream",
     "text": [
      "     March 2021\n",
      "Mo Tu We Th Fr Sa Su\n",
      " 1  2  3  4  5  6  7\n",
      " 8  9 10 11 12 13 14\n",
      "15 16 17 18 19 20 21\n",
      "22 23 24 25 26 27 28\n",
      "29 30 31\n",
      "\n"
     ]
    }
   ],
   "source": [
    "import calendar\n",
    "print (calendar.month(2021, 3))"
   ]
  },
  {
   "cell_type": "markdown",
   "metadata": {},
   "source": [
    "Q4) Write a Python program to solve quadratic equation?"
   ]
  },
  {
   "cell_type": "code",
   "execution_count": 22,
   "metadata": {},
   "outputs": [
    {
     "name": "stdout",
     "output_type": "stream",
     "text": [
      "x1 = 8.0, x2 = -2.0\n"
     ]
    }
   ],
   "source": [
    "def solve_quadratic(a,b,c):\n",
    "    sp = (b**2) - (4*a*c)\n",
    "    return ((-b + (sp)**0.5))/2, ((-b - (sp)**0.5))/2\n",
    "\n",
    "print(f'x1 = {solve_quadratic(1,-6,-16)[0]}, x2 = {solve_quadratic(1,-6,-16)[1]}')"
   ]
  },
  {
   "cell_type": "markdown",
   "metadata": {},
   "source": [
    "Q5) Write a Python program to swap two variables without temp variable?"
   ]
  },
  {
   "cell_type": "code",
   "execution_count": 23,
   "metadata": {},
   "outputs": [
    {
     "name": "stdout",
     "output_type": "stream",
     "text": [
      "old a = 1, new a = 2\n",
      "old b = 2, new b = 1\n"
     ]
    }
   ],
   "source": [
    "swap = lambda x,y : (y,x)\n",
    "a = 1\n",
    "b = 2\n",
    "a,b = swap(a,b)\n",
    "print(f'old a = 1, new a = {a}')\n",
    "print(f'old b = 2, new b = {b}')"
   ]
  }
 ],
 "metadata": {
  "kernelspec": {
   "display_name": "Python 3",
   "language": "python",
   "name": "python3"
  },
  "language_info": {
   "codemirror_mode": {
    "name": "ipython",
    "version": 3
   },
   "file_extension": ".py",
   "mimetype": "text/x-python",
   "name": "python",
   "nbconvert_exporter": "python",
   "pygments_lexer": "ipython3",
   "version": "3.8.5"
  }
 },
 "nbformat": 4,
 "nbformat_minor": 4
}
