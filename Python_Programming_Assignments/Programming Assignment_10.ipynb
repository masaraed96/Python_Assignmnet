{
 "cells": [
  {
   "cell_type": "markdown",
   "metadata": {},
   "source": [
    "Q1) Write a Python program to find sum of elements in list?"
   ]
  },
  {
   "cell_type": "code",
   "execution_count": 1,
   "metadata": {},
   "outputs": [
    {
     "name": "stdout",
     "output_type": "stream",
     "text": [
      "sum of the list [1, 1, 3, 4, 4, 2, 2] is 17\n"
     ]
    }
   ],
   "source": [
    "listy = [1,1,3,4,4,2,2]\n",
    "\n",
    "print(f'sum of the list {listy} is {sum(listy)}')"
   ]
  },
  {
   "cell_type": "markdown",
   "metadata": {},
   "source": [
    "Q2) Write a Python program to  Multiply all numbers in the list?\n"
   ]
  },
  {
   "cell_type": "code",
   "execution_count": 2,
   "metadata": {
    "scrolled": true
   },
   "outputs": [
    {
     "name": "stdout",
     "output_type": "stream",
     "text": [
      "multiplication of list [1, 1, 3, 4, 4, 2, 2] is 192\n"
     ]
    }
   ],
   "source": [
    "import functools\n",
    "mult = lambda x, y: x*y\n",
    "\n",
    "mult_list = lambda listy: functools.reduce(mult, listy)\n",
    "print(f'multiplication of list {listy} is {mult_list(listy)}')"
   ]
  },
  {
   "cell_type": "markdown",
   "metadata": {},
   "source": [
    "Q3) Write a Python program to find smallest number in a list?\n"
   ]
  },
  {
   "cell_type": "code",
   "execution_count": 3,
   "metadata": {},
   "outputs": [
    {
     "name": "stdout",
     "output_type": "stream",
     "text": [
      "smallest number in list [1, 1, 3, 4, 4, 2, 2] is 1\n"
     ]
    }
   ],
   "source": [
    "print(f'smallest number in list {listy} is {min(listy)}')"
   ]
  },
  {
   "cell_type": "markdown",
   "metadata": {},
   "source": [
    "Q4) Write a Python program to find largest number in a list?\n"
   ]
  },
  {
   "cell_type": "code",
   "execution_count": 4,
   "metadata": {},
   "outputs": [
    {
     "name": "stdout",
     "output_type": "stream",
     "text": [
      "largest number in list [1, 1, 3, 4, 4, 2, 2] is 4\n"
     ]
    }
   ],
   "source": [
    "print(f'largest number in list {listy} is {max(listy)}')"
   ]
  },
  {
   "cell_type": "markdown",
   "metadata": {},
   "source": [
    "Q5) Write a Python program to find second largest number in a list?\n"
   ]
  },
  {
   "cell_type": "code",
   "execution_count": 5,
   "metadata": {},
   "outputs": [
    {
     "name": "stdout",
     "output_type": "stream",
     "text": [
      "second largest element in the list [1, 1, 3, 4, 4, 2, 2] is 3\n",
      "second largest element in the list [1, 1, 3, 4, 4, 2, 2] is 3\n"
     ]
    }
   ],
   "source": [
    "#either remove all occurances of first max, then take max\n",
    "second_max = lambda listy: max(filter(lambda x : x!=max(listy), listy))\n",
    "print(f'second largest element in the list {listy} is {second_max(listy)}')\n",
    "#or\n",
    "#sort the list and take second max\n",
    "second_max1 = lambda listy: sorted(set(listy))[-2]\n",
    "print(f'second largest element in the list {listy} is {second_max1(listy)}')"
   ]
  },
  {
   "cell_type": "markdown",
   "metadata": {},
   "source": [
    "Q6) Write a Python program to find N largest elements from a list?\n"
   ]
  },
  {
   "cell_type": "code",
   "execution_count": 6,
   "metadata": {},
   "outputs": [
    {
     "name": "stdout",
     "output_type": "stream",
     "text": [
      "2 largest elements in the list are: [3, 4]\n"
     ]
    }
   ],
   "source": [
    "n_largest_elements = lambda listy, n: sorted(set((listy)))[-n:]\n",
    "\n",
    "n = 2\n",
    "print(f'{n} largest elements in the list are: {n_largest_elements(listy, n)}')"
   ]
  },
  {
   "cell_type": "markdown",
   "metadata": {},
   "source": [
    "Q7) Write a Python program to print even numbers in a list?\n"
   ]
  },
  {
   "cell_type": "code",
   "execution_count": 7,
   "metadata": {
    "scrolled": true
   },
   "outputs": [
    {
     "name": "stdout",
     "output_type": "stream",
     "text": [
      "even numbers in list [1, 1, 3, 4, 4, 2, 2] are [4, 4, 2, 2]\n"
     ]
    }
   ],
   "source": [
    "even_numbers = lambda listy: list(filter(lambda x: x%2==0, listy))\n",
    "\n",
    "print(f'even numbers in list {listy} are {even_numbers(listy)}')"
   ]
  },
  {
   "cell_type": "markdown",
   "metadata": {},
   "source": [
    "Q8) Write a Python program to print odd numbers in a List?\n"
   ]
  },
  {
   "cell_type": "code",
   "execution_count": 8,
   "metadata": {},
   "outputs": [
    {
     "name": "stdout",
     "output_type": "stream",
     "text": [
      "odd numbers in list [1, 1, 3, 4, 4, 2, 2] are [1, 1, 3]\n"
     ]
    }
   ],
   "source": [
    "odd_numbers = lambda listy: list(filter(lambda x: x%2, listy))\n",
    "\n",
    "print(f'odd numbers in list {listy} are {odd_numbers(listy)}')"
   ]
  },
  {
   "cell_type": "markdown",
   "metadata": {},
   "source": [
    "Q9) Write a Python program to Remove empty List from List?\n"
   ]
  },
  {
   "cell_type": "code",
   "execution_count": 9,
   "metadata": {
    "scrolled": true
   },
   "outputs": [
    {
     "name": "stdout",
     "output_type": "stream",
     "text": [
      "[1, 4, 2, []] after removing empty lists is [1, 4, 2]\n"
     ]
    }
   ],
   "source": [
    "remove_empty_lists = lambda listy: list(filter(None, listy))\n",
    "\n",
    "\n",
    "listy = [1,4,2,[]]\n",
    "print(f'{listy} after removing empty lists is {remove_empty_lists(listy)}')"
   ]
  },
  {
   "cell_type": "markdown",
   "metadata": {},
   "source": [
    "Q10) Write a Python program to Cloning or Copying a list?\n"
   ]
  },
  {
   "cell_type": "code",
   "execution_count": 10,
   "metadata": {},
   "outputs": [
    {
     "data": {
      "text/plain": [
       "[1, 4, 2, []]"
      ]
     },
     "execution_count": 10,
     "metadata": {},
     "output_type": "execute_result"
    }
   ],
   "source": [
    "copy_list = listy.copy()\n",
    "copy_list"
   ]
  },
  {
   "cell_type": "markdown",
   "metadata": {},
   "source": [
    "Q11) Write a Python program to Count occurrences of an element in a list?\n"
   ]
  },
  {
   "cell_type": "code",
   "execution_count": 11,
   "metadata": {
    "scrolled": false
   },
   "outputs": [
    {
     "name": "stdout",
     "output_type": "stream",
     "text": [
      "count of '1's in list is 1\n"
     ]
    }
   ],
   "source": [
    "n = 1\n",
    "print(f'count of \\'{n}\\'s in list is {listy.count(n)}')"
   ]
  }
 ],
 "metadata": {
  "kernelspec": {
   "display_name": "Python 3",
   "language": "python",
   "name": "python3"
  },
  "language_info": {
   "codemirror_mode": {
    "name": "ipython",
    "version": 3
   },
   "file_extension": ".py",
   "mimetype": "text/x-python",
   "name": "python",
   "nbconvert_exporter": "python",
   "pygments_lexer": "ipython3",
   "version": "3.8.5"
  }
 },
 "nbformat": 4,
 "nbformat_minor": 4
}
