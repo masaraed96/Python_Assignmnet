{
 "cells": [
  {
   "cell_type": "markdown",
   "metadata": {},
   "source": [
    "Q1) Create a function that takes a string and returns a string in which each character is repeated\n",
    "once.\n",
    "Examples\n",
    "\n",
    "1. double_char(&quot;String&quot;) ➞ &quot;SSttrriinngg&quot;\n",
    "2. double_char(&quot;Hello World!&quot;) ➞ &quot;HHeelllloo WWoorrlldd!!&quot;\n",
    "3. double_char(&quot;1234!_ &quot;) ➞ &quot;11223344!!__ &quot;\n",
    "\n"
   ]
  },
  {
   "cell_type": "code",
   "execution_count": 1,
   "metadata": {},
   "outputs": [
    {
     "data": {
      "text/plain": [
       "'SSttrriinngg'"
      ]
     },
     "execution_count": 1,
     "metadata": {},
     "output_type": "execute_result"
    }
   ],
   "source": [
    "double_char = lambda string: \"\".join([char*2 for char in string])\n",
    "double_char(\"String\")"
   ]
  },
  {
   "cell_type": "markdown",
   "metadata": {},
   "source": [
    "Q2) Create a function that reverses a boolean value and returns the string &quot;boolean expected&quot;\n",
    "if another variable type is given.\n",
    "Examples\n",
    "\n",
    "1. reverse(True) ➞ False\n",
    "2. reverse(False) ➞ True\n",
    "3. reverse(0) ➞ &quot;boolean expected&quot;\n",
    "4. reverse(None) ➞ &quot;boolean expected&quot;\n",
    "\n"
   ]
  },
  {
   "cell_type": "code",
   "execution_count": 2,
   "metadata": {},
   "outputs": [
    {
     "name": "stdout",
     "output_type": "stream",
     "text": [
      "False\n",
      "boolean expected\n",
      "boolean expected\n"
     ]
    }
   ],
   "source": [
    "reverse = lambda boolean: not boolean if type(boolean) == bool else \"boolean expected\"\n",
    "    \n",
    "print(reverse(True))\n",
    "print(reverse(0))\n",
    "print(reverse(None))"
   ]
  },
  {
   "cell_type": "markdown",
   "metadata": {},
   "source": [
    "Q3) Create a function that returns the thickness (in meters) of a piece of paper after folding it n\n",
    "number of times. The paper starts off with a thickness of 0.5mm.\n",
    "Examples\n",
    "\n",
    "1. num_layers(1) ➞ &quot;0.001m&quot;\n",
    "###### Paper folded once is 1mm (equal to 0.001m)\n",
    "2. num_layers(4) ➞ &quot;0.008m&quot;\n",
    "###### Paper folded 4 times is 8mm (equal to 0.008m)\n",
    "3. num_layers(21) ➞ &quot;1048.576m&quot;\n",
    "###### Paper folded 21 times is 1048576mm (equal to 1048.576m)\n",
    "\n"
   ]
  },
  {
   "cell_type": "code",
   "execution_count": 3,
   "metadata": {},
   "outputs": [
    {
     "data": {
      "text/plain": [
       "'1048.576m'"
      ]
     },
     "execution_count": 3,
     "metadata": {},
     "output_type": "execute_result"
    }
   ],
   "source": [
    "# starts off thickness is 0.5mm\n",
    "#every time we fold it it's doubled so\n",
    "# find thickness in mm: 2^(layers)*starts off thickness\n",
    "# convert it to meter by dividing by 1000\n",
    "paper_thinkness = lambda layers: str(((2**layers)*0.5)/1000)+\"m\"\n",
    "paper_thinkness(21)"
   ]
  },
  {
   "cell_type": "markdown",
   "metadata": {},
   "source": [
    "Q4) Create a function that takes a single string as argument and returns an ordered list containing\n",
    "the indices of all capital letters in the string.\n",
    "Examples\n",
    "\n",
    "1. index_of_caps(&quot;eDaBiT&quot;) ➞ [1, 3, 5]\n",
    "2. index_of_caps(&quot;eQuINoX&quot;) ➞ [1, 3, 4, 6]\n",
    "3. index_of_caps(&quot;determine&quot;) ➞ []\n",
    "4. index_of_caps(&quot;STRIKE&quot;) ➞ [0, 1, 2, 3, 4, 5]\n",
    "5. index_of_caps(&quot;sUn&quot;) ➞ [1]\n",
    "\n"
   ]
  },
  {
   "cell_type": "code",
   "execution_count": 4,
   "metadata": {},
   "outputs": [
    {
     "data": {
      "text/plain": [
       "[1, 3, 4, 6]"
      ]
     },
     "execution_count": 4,
     "metadata": {},
     "output_type": "execute_result"
    }
   ],
   "source": [
    "index_of_caps = lambda string: sorted([string.index(c) for c in string if c.isupper()])\n",
    "index_of_caps(\"eQuINoX\")"
   ]
  },
  {
   "cell_type": "markdown",
   "metadata": {},
   "source": [
    "Q5) Using list comprehensions, create a function that finds all even numbers from 1 to the given\n",
    "number.\n",
    "Examples\n",
    "\n",
    "1. find_even_nums(8) ➞ [2, 4, 6, 8]\n",
    "2. find_even_nums(4) ➞ [2, 4]\n",
    "3. find_even_nums(2) ➞ [2]"
   ]
  },
  {
   "cell_type": "code",
   "execution_count": 5,
   "metadata": {},
   "outputs": [
    {
     "data": {
      "text/plain": [
       "[2, 4, 6, 8]"
      ]
     },
     "execution_count": 5,
     "metadata": {},
     "output_type": "execute_result"
    }
   ],
   "source": [
    "find_even_nums = lambda num: [i for i in range(1,num+1) if not i%2]\n",
    "find_even_nums(8)"
   ]
  }
 ],
 "metadata": {
  "kernelspec": {
   "display_name": "Python 3",
   "language": "python",
   "name": "python3"
  },
  "language_info": {
   "codemirror_mode": {
    "name": "ipython",
    "version": 3
   },
   "file_extension": ".py",
   "mimetype": "text/x-python",
   "name": "python",
   "nbconvert_exporter": "python",
   "pygments_lexer": "ipython3",
   "version": "3.8.5"
  }
 },
 "nbformat": 4,
 "nbformat_minor": 4
}
