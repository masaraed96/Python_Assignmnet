{
 "cells": [
  {
   "cell_type": "markdown",
   "metadata": {},
   "source": [
    "Q1) Create a function that takes a number as an argument and returns True or False depending\n",
    "on whether the number is symmetrical or not. A number is symmetrical when it is the same as\n",
    "its reverse.\n",
    "Examples\n",
    "1. is_symmetrical(7227) ➞ True\n",
    "2. is_symmetrical(12567) ➞ False\n",
    "3. is_symmetrical(44444444) ➞ True\n",
    "4. is_symmetrical(9939) ➞ False\n",
    "5. is_symmetrical(1112111) ➞ True\n",
    "\n"
   ]
  },
  {
   "cell_type": "code",
   "execution_count": 1,
   "metadata": {},
   "outputs": [
    {
     "data": {
      "text/plain": [
       "True"
      ]
     },
     "execution_count": 1,
     "metadata": {},
     "output_type": "execute_result"
    }
   ],
   "source": [
    "is_symmetrical = lambda num: str(num) == (str(num)[::-1])\n",
    "\n",
    "is_symmetrical(7227)"
   ]
  },
  {
   "cell_type": "markdown",
   "metadata": {},
   "source": [
    "Q2) Given a string of numbers separated by a comma and space, return the product of the\n",
    "numbers.\n",
    "Examples\n",
    "1. multiply_nums(&quot;2, 3&quot;) ➞ 6\n",
    "2. multiply_nums(&quot;1, 2, 3, 4&quot;) ➞ 24\n",
    "3. multiply_nums(&quot;54, 75, 453, 0&quot;) ➞ 0\n",
    "4. multiply_nums(&quot;10, -2&quot;) ➞ -20\n",
    "\n"
   ]
  },
  {
   "cell_type": "code",
   "execution_count": 2,
   "metadata": {},
   "outputs": [
    {
     "data": {
      "text/plain": [
       "0"
      ]
     },
     "execution_count": 2,
     "metadata": {},
     "output_type": "execute_result"
    }
   ],
   "source": [
    "from functools import reduce\n",
    "multiply_nums = lambda string: reduce(lambda x, y: x*y, map(int, string.split(',')))\n",
    "\n",
    "multiply_nums(\"54, 75, 453, 0\")"
   ]
  },
  {
   "cell_type": "markdown",
   "metadata": {},
   "source": [
    "Q3) Create a function that squares every digit of a number.\n",
    "Examples\n",
    "1. square_digits(9119) ➞ 811181\n",
    "2. square_digits(2483) ➞ 416649\n",
    "3. square_digits(3212) ➞ 9414\n",
    "\n",
    "Notes\n",
    "* The function receives an integer and must return an integer.\n",
    "\n"
   ]
  },
  {
   "cell_type": "code",
   "execution_count": 3,
   "metadata": {},
   "outputs": [
    {
     "data": {
      "text/plain": [
       "416649"
      ]
     },
     "execution_count": 3,
     "metadata": {},
     "output_type": "execute_result"
    }
   ],
   "source": [
    "square_digits = lambda num: int(\"\".join([str(int(digit)**2) for digit in str(num)]))\n",
    "\n",
    "square_digits(2483) "
   ]
  },
  {
   "cell_type": "markdown",
   "metadata": {},
   "source": [
    "Q4) Create a function that sorts a list and removes all duplicate items from it.\n",
    "Examples\n",
    "1. setify([1, 3, 3, 5, 5]) ➞ [1, 3, 5]\n",
    "2. setify([4, 4, 4, 4]) ➞ [4]\n",
    "3. setify([5, 7, 8, 9, 10, 15]) ➞ [5, 7, 8, 9, 10, 15]\n",
    "4. setify([3, 3, 3, 2, 1]) ➞ [1, 2, 3]\n",
    "\n"
   ]
  },
  {
   "cell_type": "code",
   "execution_count": 4,
   "metadata": {},
   "outputs": [
    {
     "data": {
      "text/plain": [
       "[1, 3, 5]"
      ]
     },
     "execution_count": 4,
     "metadata": {},
     "output_type": "execute_result"
    }
   ],
   "source": [
    "setify = lambda listy: sorted(set(listy))\n",
    "\n",
    "setify([1, 3, 3, 5, 5])"
   ]
  },
  {
   "cell_type": "markdown",
   "metadata": {},
   "source": [
    "Q5) Create a function that returns the mean of all digits.\n",
    "Examples\n",
    "1. mean(42) ➞ 3\n",
    "2. mean(12345) ➞ 3\n",
    "3. mean(666) ➞ 6\n",
    "\n",
    "Notes\n",
    "* The mean of all digits is the sum of digits / how many digits there are (e.g. mean of digits in\n",
    "512 is (5+1+2)/3(number of digits) = 8/3=2).\n",
    "* The mean will always be an integer."
   ]
  },
  {
   "cell_type": "code",
   "execution_count": 5,
   "metadata": {},
   "outputs": [
    {
     "data": {
      "text/plain": [
       "3"
      ]
     },
     "execution_count": 5,
     "metadata": {},
     "output_type": "execute_result"
    }
   ],
   "source": [
    "mean = lambda num: sum(int(digit) for digit in str(num))// len(str(num))\n",
    "\n",
    "mean(12345)"
   ]
  }
 ],
 "metadata": {
  "kernelspec": {
   "display_name": "Python 3",
   "language": "python",
   "name": "python3"
  },
  "language_info": {
   "codemirror_mode": {
    "name": "ipython",
    "version": 3
   },
   "file_extension": ".py",
   "mimetype": "text/x-python",
   "name": "python",
   "nbconvert_exporter": "python",
   "pygments_lexer": "ipython3",
   "version": "3.8.5"
  }
 },
 "nbformat": 4,
 "nbformat_minor": 4
}
