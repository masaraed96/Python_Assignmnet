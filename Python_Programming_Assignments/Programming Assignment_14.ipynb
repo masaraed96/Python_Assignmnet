{
 "cells": [
  {
   "cell_type": "markdown",
   "metadata": {},
   "source": [
    "Q1) Define a class with a generator which can iterate the numbers, which are divisible by\n",
    "7, between a given range 0 and n.\n",
    "\n"
   ]
  },
  {
   "cell_type": "code",
   "execution_count": 1,
   "metadata": {},
   "outputs": [
    {
     "name": "stdout",
     "output_type": "stream",
     "text": [
      "0\n",
      "7\n",
      "14\n",
      "21\n",
      "28\n"
     ]
    }
   ],
   "source": [
    "class iterator(object):\n",
    "    def __init__(self, n):\n",
    "        super(iterator, self).__init__()\n",
    "        self.n = n\n",
    "        \n",
    "    def devby7(self):\n",
    "        for i in range(0,self.n):\n",
    "            if not i%7:\n",
    "                yield i\n",
    "                \n",
    "for i in iterator(30).devby7():\n",
    "    print(i)"
   ]
  },
  {
   "cell_type": "markdown",
   "metadata": {},
   "source": [
    "Q2) Write a program to compute the frequency of the words from the input. The output should output after sorting the key alphanumerically.\n",
    "Suppose the following input is supplied to the program:\n",
    "New to Python or choosing between Python 2 and Python 3? Read Python 2 or\n",
    "Python 3.\n",
    "Then, the output should be:\n",
    "2:2\n",
    "3.:1\n",
    "3?:1\n",
    "New:1\n",
    "Python:5\n",
    "Read:1\n",
    "and:1\n",
    "between:1\n",
    "choosing:1\n",
    "or:2\n",
    "to:1\n",
    "\n"
   ]
  },
  {
   "cell_type": "code",
   "execution_count": 3,
   "metadata": {},
   "outputs": [
    {
     "name": "stdout",
     "output_type": "stream",
     "text": [
      "input your string: \n",
      "New to Python or choosing between Python 2 and Python 3? Read Python 2 or Python 3.\n",
      "\n",
      "\n",
      "[('2', 2), ('3.', 1), ('3?', 1), ('New', 1), ('Python', 5), ('Read', 1), ('and', 1), ('between', 1), ('choosing', 1), ('or', 2), ('to', 1)]\n"
     ]
    }
   ],
   "source": [
    "def count_words(snetence):\n",
    "    words = sentence.split()\n",
    "    words_freq = [words.count(word) for word in words]\n",
    "    return dict(zip(words, words_freq))\n",
    "\n",
    "sort_dict = lambda dictt: sorted(dictt.items(), key=lambda x: x[0])\n",
    "\n",
    "sentence = input('input your string: \\n')\n",
    "print(f'\\n\\n{sort_dict(count_words(sentence))}')"
   ]
  },
  {
   "cell_type": "markdown",
   "metadata": {},
   "source": [
    "Q3) Define a class Person and its two child classes: Male and Female. All classes have a\n",
    "method &quot;getGender&quot; which can print &quot;Male&quot; for Male class and &quot;Female&quot; for Female\n",
    "class.\n",
    "\n"
   ]
  },
  {
   "cell_type": "code",
   "execution_count": 4,
   "metadata": {},
   "outputs": [
    {
     "data": {
      "text/plain": [
       "'Male'"
      ]
     },
     "execution_count": 4,
     "metadata": {},
     "output_type": "execute_result"
    }
   ],
   "source": [
    "class Person:\n",
    "    def __init__(self):\n",
    "        pass \n",
    "    def getGender(self):\n",
    "        return 'Undefined'\n",
    "    \n",
    "class Male(Person):\n",
    "    def __init__(self):\n",
    "        super()\n",
    "    def getGender(self):\n",
    "        return 'Male'\n",
    "    \n",
    "class female(Person):\n",
    "    def __init__(self):\n",
    "        super()\n",
    "    def getGender(self):\n",
    "        return 'Female'\n",
    "\n",
    "\n",
    "Ahmad = Male()\n",
    "Ahmad.getGender()"
   ]
  },
  {
   "cell_type": "markdown",
   "metadata": {},
   "source": [
    "Q4) Write a program to generate all sentences where subject is in [&quot;I&quot;, &quot;You&quot;] and\n",
    "verb is in [&quot;Play&quot;, &quot;Love&quot;] and the object is in [&quot;Hockey&quot;,&quot;Football&quot;].\n",
    "\n"
   ]
  },
  {
   "cell_type": "code",
   "execution_count": 5,
   "metadata": {},
   "outputs": [
    {
     "data": {
      "text/plain": [
       "[('i', 'Play', 'hockey'),\n",
       " ('i', 'Play', 'football'),\n",
       " ('i', 'love', 'hockey'),\n",
       " ('i', 'love', 'football'),\n",
       " ('you', 'Play', 'hockey'),\n",
       " ('you', 'Play', 'football'),\n",
       " ('you', 'love', 'hockey'),\n",
       " ('you', 'love', 'football')]"
      ]
     },
     "execution_count": 5,
     "metadata": {},
     "output_type": "execute_result"
    }
   ],
   "source": [
    "def generate_all_sentences(*args):\n",
    "    import itertools\n",
    "    return list(itertools.product(*args))\n",
    "\n",
    "subjects = ['i', 'you']\n",
    "verbs = ['Play', 'love']\n",
    "objects = ['hockey', 'football']\n",
    "generate_all_sentences(subjects, verbs, objects)"
   ]
  },
  {
   "cell_type": "markdown",
   "metadata": {},
   "source": [
    "Q5) write a program to compress and decompress the string &quot;hello world!hello\n",
    "world!hello world!hello world!&quot;.\n",
    "\n"
   ]
  },
  {
   "cell_type": "code",
   "execution_count": 6,
   "metadata": {},
   "outputs": [
    {
     "name": "stdout",
     "output_type": "stream",
     "text": [
      "compressed = b'x\\x9c\\xcbH\\xcd\\xc9\\xc9W(\\xcf/\\xcaIQ\\xcc \\x82\\r\\x00\\xbd[\\x11\\xf5'\n",
      "decompressed = b'hello world!hello world!hello world!hello world!'\n"
     ]
    }
   ],
   "source": [
    "import zlib\n",
    "\n",
    "def compress_string(str):\n",
    "    return zlib.compress(str.encode())\n",
    "\n",
    "def decompress_string(str):\n",
    "    return zlib.decompress(str)\n",
    "\n",
    "compressed = compress_string('hello world!hello world!hello world!hello world!')\n",
    "decompressed = decompress_string(compressed)\n",
    "print(f'compressed = {compressed}\\ndecompressed = {decompressed}')"
   ]
  },
  {
   "cell_type": "markdown",
   "metadata": {},
   "source": [
    "Q6) Write a binary search function which searches an item in a sorted list. The\n",
    "function should return the index of element to be searched in the list."
   ]
  },
  {
   "cell_type": "code",
   "execution_count": 7,
   "metadata": {},
   "outputs": [
    {
     "name": "stdout",
     "output_type": "stream",
     "text": [
      "index of 2 is 1\n"
     ]
    }
   ],
   "source": [
    "def binary_search(element, listy, start, end):\n",
    "    if start > end:\n",
    "        return -1\n",
    "    \n",
    "    mid = (start + end)//2\n",
    "    if listy[mid] == element:\n",
    "        return mid\n",
    "    if element < listy[mid]:\n",
    "        return binary_search(element, listy, start, mid)\n",
    "    else:\n",
    "        return binary_search(element, listy, mid, end)\n",
    "    \n",
    "element = 2\n",
    "listy = [1,2,3,4,5,6,10]\n",
    "print(f'index of {element} is {binary_search(element,listy, 0, len(listy))}')"
   ]
  }
 ],
 "metadata": {
  "kernelspec": {
   "display_name": "Python 3",
   "language": "python",
   "name": "python3"
  },
  "language_info": {
   "codemirror_mode": {
    "name": "ipython",
    "version": 3
   },
   "file_extension": ".py",
   "mimetype": "text/x-python",
   "name": "python",
   "nbconvert_exporter": "python",
   "pygments_lexer": "ipython3",
   "version": "3.8.5"
  }
 },
 "nbformat": 4,
 "nbformat_minor": 4
}
