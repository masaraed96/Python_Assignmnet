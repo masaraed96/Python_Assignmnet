{
 "cells": [
  {
   "cell_type": "markdown",
   "metadata": {},
   "source": [
    "Q1) Create a function that takes an integer and returns a list from 1 to the given number, where:\n",
    "1. If the number can be divided evenly by 4, amplify it by 10 (i.e. return 10 times the\n",
    "number).\n",
    "2. If the number cannot be divided evenly by 4, simply return the number.\n",
    "Examples\n",
    "1. amplify(4) ➞ [1, 2, 3, 40]\n",
    "2. amplify(3) ➞ [1, 2, 3]\n",
    "3. amplify(25) ➞ [1, 2, 3, 40, 5, 6, 7, 80, 9, 10, 11, 120, 13, 14, 15, 160,\n",
    "17, 18, 19, 200, 21, 22, 23, 240, 25]\n",
    "\n",
    "Notes\n",
    "* The given integer will always be equal to or greater than 1.\n",
    "* Include the number (see example above).\n",
    "* To perform this problem with its intended purpose, try doing it with list\n",
    "comprehensions. If that&#39;s too difficult, just solve the challenge any way you can.\n",
    "\n"
   ]
  },
  {
   "cell_type": "code",
   "execution_count": 1,
   "metadata": {},
   "outputs": [
    {
     "data": {
      "text/plain": [
       "[1, 2, 3, 40]"
      ]
     },
     "execution_count": 1,
     "metadata": {},
     "output_type": "execute_result"
    }
   ],
   "source": [
    "amplify = lambda num: [i*10 if not i%4 else i for i in range(1, num+1)]\n",
    "\n",
    "amplify(4)"
   ]
  },
  {
   "cell_type": "markdown",
   "metadata": {},
   "source": [
    "Q2) Create a function that takes a list of numbers and return the number that&#39;s unique.\n",
    "Examples\n",
    "1. unique([3, 3, 3, 7, 3, 3]) ➞ 7\n",
    "2. unique([0, 0, 0.77, 0, 0]) ➞ 0.77\n",
    "3. unique([0, 1, 1, 1, 1, 1, 1, 1]) ➞ 0\n",
    "\n",
    "Notes\n",
    "* Test cases will always have exactly one unique number while all others are the same.\n",
    "\n"
   ]
  },
  {
   "cell_type": "code",
   "execution_count": 2,
   "metadata": {},
   "outputs": [
    {
     "data": {
      "text/plain": [
       "7"
      ]
     },
     "execution_count": 2,
     "metadata": {},
     "output_type": "execute_result"
    }
   ],
   "source": [
    "from functools import reduce\n",
    "unique = lambda listy: [num for num in listy if listy.count(num)==1][0]\n",
    "\n",
    "unique([3,3,3,7,3,3])"
   ]
  },
  {
   "cell_type": "markdown",
   "metadata": {},
   "source": [
    "Q3) Your task is to create a Circle constructor that creates a circle with a radius provided by an\n",
    "argument. The circles constructed must have two getters getArea() (PIr^2) and\n",
    "getPerimeter() (2PI*r) which give both respective areas and perimeter (circumference).\n",
    "\n",
    "For help with this class, I have provided you with a Rectangle constructor which you can use\n",
    "as a base example.\n",
    "Examples\n",
    "1. circy = Circle(11)\n",
    "2. circy.getArea()\n",
    "#### Should return 380.132711084365\n",
    "1. circy = Circle(4.44)\n",
    "2. circy.getPerimeter()\n",
    "#### Should return 27.897342763877365\n",
    "Notes\n",
    "\n",
    "* Round results up to the nearest integer.\n",
    "\n"
   ]
  },
  {
   "cell_type": "code",
   "execution_count": 3,
   "metadata": {},
   "outputs": [
    {
     "name": "stdout",
     "output_type": "stream",
     "text": [
      "380\n",
      "27\n"
     ]
    }
   ],
   "source": [
    "import math\n",
    "class Circle():\n",
    "    def __init__(self, radius):\n",
    "        self.radius = radius\n",
    "    def getArea(self):\n",
    "        return int(math.pi * (self.radius**2))\n",
    "    def getPerimeter(self):\n",
    "        return int(2 * math.pi * self.radius)\n",
    "    \n",
    "circy = Circle(11)\n",
    "print(circy.getArea())\n",
    "\n",
    "circy = Circle(4.44)\n",
    "print(circy.getPerimeter())"
   ]
  },
  {
   "cell_type": "markdown",
   "metadata": {},
   "source": [
    "Q4) Create a function that takes a list of strings and return a list, sorted from shortest to longest.\n",
    "Examples\n",
    "1. sort_by_length([&quot;Google&quot;, &quot;Apple&quot;, &quot;Microsoft&quot;])\n",
    "➞ [&quot;Apple&quot;, &quot;Google&quot;, &quot;Microsoft&quot;]\n",
    "2. sort_by_length([&quot;Leonardo&quot;, &quot;Michelangelo&quot;, &quot;Raphael&quot;, &quot;Donatello&quot;])\n",
    "➞ [&quot;Raphael&quot;, &quot;Leonardo&quot;, &quot;Donatello&quot;, &quot;Michelangelo&quot;]\n",
    "3. sort_by_length([&quot;Turing&quot;, &quot;Einstein&quot;, &quot;Jung&quot;])\n",
    "➞ [&quot;Jung&quot;, &quot;Turing&quot;, &quot;Einstein&quot;]\n",
    "\n",
    "Notes\n",
    "* All test cases contain lists with strings of different lengths, so you won&#39;t have to deal with\n",
    "multiple strings of the same length.\n",
    "\n"
   ]
  },
  {
   "cell_type": "code",
   "execution_count": 4,
   "metadata": {},
   "outputs": [
    {
     "data": {
      "text/plain": [
       "['Apple', 'Google', 'Microsoft']"
      ]
     },
     "execution_count": 4,
     "metadata": {},
     "output_type": "execute_result"
    }
   ],
   "source": [
    "sort_by_length = lambda words: sorted(words, key=lambda x: len(x))\n",
    "\n",
    "sort_by_length([\"Google\", \"Apple\", \"Microsoft\"])"
   ]
  },
  {
   "cell_type": "markdown",
   "metadata": {},
   "source": [
    "Q5) Create a function that validates whether three given integers form a Pythagorean triplet. The\n",
    "sum of the squares of the two smallest integers must equal the square of the largest number to\n",
    "be validated.\n",
    "\n",
    "Examples\n",
    "1. is_triplet(3, 4, 5) ➞ True\n",
    "#### 3² + 4² = 25\n",
    "#### 5² = 25\n",
    "2. is_triplet(13, 5, 12) ➞ True\n",
    "#### 5² + 12² = 169\n",
    "#### 13² = 169\n",
    "3. is_triplet(1, 2, 3) ➞ False\n",
    "#### 1² + 2² = 5\n",
    "#### 3² = 9\n",
    "\n",
    "Notes\n",
    "* Numbers may not be given in a sorted order."
   ]
  },
  {
   "cell_type": "code",
   "execution_count": 5,
   "metadata": {},
   "outputs": [
    {
     "data": {
      "text/plain": [
       "True"
      ]
     },
     "execution_count": 5,
     "metadata": {},
     "output_type": "execute_result"
    }
   ],
   "source": [
    "def is_triplet(x,y,z):\n",
    "    listy = sorted([x,y,z])\n",
    "    if (listy[0]**2 + listy[1]**2) == (listy[2]**2):\n",
    "        return True\n",
    "    return False\n",
    "\n",
    "is_triplet(13, 5, 12)"
   ]
  }
 ],
 "metadata": {
  "kernelspec": {
   "display_name": "Python 3",
   "language": "python",
   "name": "python3"
  },
  "language_info": {
   "codemirror_mode": {
    "name": "ipython",
    "version": 3
   },
   "file_extension": ".py",
   "mimetype": "text/x-python",
   "name": "python",
   "nbconvert_exporter": "python",
   "pygments_lexer": "ipython3",
   "version": "3.8.5"
  }
 },
 "nbformat": 4,
 "nbformat_minor": 4
}
