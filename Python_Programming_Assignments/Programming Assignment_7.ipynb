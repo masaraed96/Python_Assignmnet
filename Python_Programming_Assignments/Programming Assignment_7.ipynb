{
 "cells": [
  {
   "cell_type": "markdown",
   "metadata": {},
   "source": [
    "Q1) Write a Python Program to find sum of array?"
   ]
  },
  {
   "cell_type": "code",
   "execution_count": 1,
   "metadata": {},
   "outputs": [],
   "source": [
    "sum_array = lambda array: sum(array)\n",
    "\n",
    "array = [1,2,3]\n",
    "print(f'sum of the array {array} is {sum_array(array)}')"
   ]
  },
  {
   "cell_type": "markdown",
   "metadata": {},
   "source": [
    "Q2) Write a Python Program to find largest element in an array?"
   ]
  },
  {
   "cell_type": "code",
   "execution_count": 2,
   "metadata": {},
   "outputs": [
    {
     "name": "stdout",
     "output_type": "stream",
     "text": [
      "sum of the array [1, 2, 3] is 3\n"
     ]
    }
   ],
   "source": [
    "max_array = lambda array: max(array)\n",
    "\n",
    "array = [1,2,3]\n",
    "print(f'sum of the array {array} is {max_array(array)}')"
   ]
  },
  {
   "cell_type": "markdown",
   "metadata": {},
   "source": [
    "Q3) Write a Python Program for array rotation?"
   ]
  },
  {
   "cell_type": "code",
   "execution_count": 3,
   "metadata": {},
   "outputs": [
    {
     "name": "stdout",
     "output_type": "stream",
     "text": [
      "sum of the array [1, 2, 3] is [3, 2, 1]\n"
     ]
    }
   ],
   "source": [
    "rotate_array = lambda array: array[::-1]\n",
    "\n",
    "array = [1,2,3]\n",
    "print(f'sum of the array {array} is {rotate_array(array)}')"
   ]
  },
  {
   "cell_type": "markdown",
   "metadata": {},
   "source": [
    "Q4) Write a Python Program to Split the array and add the first part to the end?"
   ]
  },
  {
   "cell_type": "code",
   "execution_count": 4,
   "metadata": {},
   "outputs": [
    {
     "name": "stdout",
     "output_type": "stream",
     "text": [
      "sum of the array [1, 2, 3, 4] is [3, 4, 1, 2]\n"
     ]
    }
   ],
   "source": [
    "def split_array(array):\n",
    "    first_part = array[:len(array)//2]\n",
    "    remove_first_part = [value for value in array if value not in first_part]\n",
    "    return remove_first_part + first_part\n",
    "    \n",
    "array = [1,2,3,4]\n",
    "print(f'sum of the array {array} is {split_array(array)}')"
   ]
  },
  {
   "cell_type": "markdown",
   "metadata": {},
   "source": [
    "Q5) Write a Python Program to check if given array is Monotonic?"
   ]
  },
  {
   "cell_type": "code",
   "execution_count": 5,
   "metadata": {},
   "outputs": [
    {
     "name": "stdout",
     "output_type": "stream",
     "text": [
      "is arrat [4, 6, 7, 3] monotonic? False\n",
      "is arrat [9, 5, 3, -1] monotonic? True\n"
     ]
    }
   ],
   "source": [
    "def check_monotonic(array):\n",
    "    return (all(array[i+1] >= array[i] for i in range(len(array)-1)) or \n",
    "            all(array[i+1] <= array[i] for i in range(len(array)-1)))\n",
    "        \n",
    "\n",
    "array = [4,6,7,3]\n",
    "array1 = [9,5,3,-1]\n",
    "\n",
    "print(f'is arrat {array} monotonic? {check_monotonic(array)}')\n",
    "print(f'is arrat {array1} monotonic? {check_monotonic(array1)}')"
   ]
  }
 ],
 "metadata": {
  "kernelspec": {
   "display_name": "Python 3",
   "language": "python",
   "name": "python3"
  },
  "language_info": {
   "codemirror_mode": {
    "name": "ipython",
    "version": 3
   },
   "file_extension": ".py",
   "mimetype": "text/x-python",
   "name": "python",
   "nbconvert_exporter": "python",
   "pygments_lexer": "ipython3",
   "version": "3.8.5"
  }
 },
 "nbformat": 4,
 "nbformat_minor": 4
}
