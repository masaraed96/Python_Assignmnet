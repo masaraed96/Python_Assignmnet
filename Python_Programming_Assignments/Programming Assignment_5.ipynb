{
 "cells": [
  {
   "cell_type": "markdown",
   "metadata": {},
   "source": [
    "Q1) Write a Python Program to Find LCM?"
   ]
  },
  {
   "cell_type": "code",
   "execution_count": 1,
   "metadata": {},
   "outputs": [
    {
     "data": {
      "text/plain": [
       "24"
      ]
     },
     "execution_count": 1,
     "metadata": {},
     "output_type": "execute_result"
    }
   ],
   "source": [
    "#least common multiplicant is the smallest positive integer that is evenly divisible by both a and b\n",
    "\n",
    "'''\n",
    "if we already have the hcf then we can do the following\n",
    "def lcm(num1, num2):\n",
    "    hcf1 = hcf(num1, num2)\n",
    "    return (num1//hcf1)*num2\n",
    "'''\n",
    "\n",
    "#since we don't have the hcf\n",
    "def lcm(num1, num2):\n",
    "    m_num1, m_num2 = [], []\n",
    "    for i in range(1,11):\n",
    "        m_num1.append(num1*i)\n",
    "        m_num2.append(num2*i)\n",
    "    return min([value for value in m_num1 if value in m_num2])\n",
    "\n",
    "lcm(12,8)"
   ]
  },
  {
   "cell_type": "markdown",
   "metadata": {},
   "source": [
    "Q2) Write a Python Program to Find HCF?"
   ]
  },
  {
   "cell_type": "code",
   "execution_count": 2,
   "metadata": {},
   "outputs": [
    {
     "data": {
      "text/plain": [
       "4"
      ]
     },
     "execution_count": 2,
     "metadata": {},
     "output_type": "execute_result"
    }
   ],
   "source": [
    "#highest common factor\n",
    "def hcf(num1, num2):\n",
    "    reminder = -100\n",
    "    while reminder != 0:\n",
    "        max_num = max(num1, num2)\n",
    "        min_num = min(num1, num2)\n",
    "        reminder = max_num%min_num\n",
    "        if reminder == 0:\n",
    "            return min_num\n",
    "        else:\n",
    "            num1 = min_num\n",
    "            num2 = reminder\n",
    "            \n",
    "hcf(12,8)"
   ]
  },
  {
   "cell_type": "markdown",
   "metadata": {},
   "source": [
    "Q3) Write a Python Program to Convert Decimal to Binary, Octal and Hexadecimal?"
   ]
  },
  {
   "cell_type": "code",
   "execution_count": 3,
   "metadata": {},
   "outputs": [
    {
     "name": "stdout",
     "output_type": "stream",
     "text": [
      "binary of 5 = 0b101\n",
      "octal of 5 = 0o5\n",
      "hexadecimal of 5 = 0x5\n"
     ]
    }
   ],
   "source": [
    "decimal = 5\n",
    "print(f'binary of {decimal} = {bin(decimal)}')\n",
    "print(f'octal of {decimal} = {oct(decimal)}')\n",
    "print(f'hexadecimal of {decimal} = {hex(decimal)}')"
   ]
  },
  {
   "cell_type": "markdown",
   "metadata": {},
   "source": [
    "Q4) Write a Python Program To Find ASCII value of a character?"
   ]
  },
  {
   "cell_type": "code",
   "execution_count": 4,
   "metadata": {},
   "outputs": [
    {
     "name": "stdout",
     "output_type": "stream",
     "text": [
      "ascii of A = 65\n"
     ]
    }
   ],
   "source": [
    "char = 'A'\n",
    "print(f'ascii of {char} = {ord(char)}')"
   ]
  },
  {
   "cell_type": "markdown",
   "metadata": {},
   "source": [
    "Q5) Write a Python Program to Make a Simple Calculator with 4 basic mathematical operations?"
   ]
  },
  {
   "cell_type": "code",
   "execution_count": 5,
   "metadata": {},
   "outputs": [
    {
     "name": "stdout",
     "output_type": "stream",
     "text": [
      "1 + 2 = 3\n",
      "1 + 2 = -1\n",
      "1 + 2 = 2\n",
      "1 + 2 = 0.5\n"
     ]
    }
   ],
   "source": [
    "summ = lambda x, y : x+y\n",
    "substract = lambda x, y : x-y\n",
    "multiply = lambda x, y : x*y\n",
    "devide = lambda x, y : x/y\n",
    "a = 1\n",
    "b = 2\n",
    "print(f'{a} + {b} = {summ(a,b)}')\n",
    "print(f'{a} + {b} = {substract(a,b)}')\n",
    "print(f'{a} + {b} = {multiply(a,b)}')\n",
    "print(f'{a} + {b} = {devide(a,b)}')"
   ]
  }
 ],
 "metadata": {
  "kernelspec": {
   "display_name": "Python 3",
   "language": "python",
   "name": "python3"
  },
  "language_info": {
   "codemirror_mode": {
    "name": "ipython",
    "version": 3
   },
   "file_extension": ".py",
   "mimetype": "text/x-python",
   "name": "python",
   "nbconvert_exporter": "python",
   "pygments_lexer": "ipython3",
   "version": "3.8.5"
  }
 },
 "nbformat": 4,
 "nbformat_minor": 4
}
