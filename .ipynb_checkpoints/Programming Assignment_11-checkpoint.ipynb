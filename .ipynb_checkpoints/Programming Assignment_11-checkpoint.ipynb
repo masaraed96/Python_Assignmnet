{
 "cells": [
  {
   "cell_type": "markdown",
   "metadata": {},
   "source": [
    "Q1) Write a Python program to find words which are greater than given length k?"
   ]
  },
  {
   "cell_type": "code",
   "execution_count": 1,
   "metadata": {},
   "outputs": [
    {
     "name": "stdout",
     "output_type": "stream",
     "text": [
      "words that are longer than 3 in \"I loove Shawerma\" are: ['loove', 'Shawerma']\n"
     ]
    }
   ],
   "source": [
    "string = \"I loove Shawerma\"\n",
    "def filters(k,stringg):\n",
    "    return list(filter(lambda x: len(x)>k, stringg))\n",
    "\n",
    "k = 3\n",
    "print(f'words that are longer than {k} in \\\"{string}\\\" are: {filters(k,string.split())}')"
   ]
  },
  {
   "cell_type": "markdown",
   "metadata": {},
   "source": [
    "Q2) Write a Python program for removing i-th character from a string?"
   ]
  },
  {
   "cell_type": "code",
   "execution_count": 2,
   "metadata": {},
   "outputs": [
    {
     "name": "stdout",
     "output_type": "stream",
     "text": [
      "after removing 3th character from \"I loove Shawerma\" it becomes: I love Shawerma\n",
      "after removing 3th character from \"I loove Shawerma\" it becomes: I love Shawerma\n"
     ]
    }
   ],
   "source": [
    "#way 1\n",
    "remove_char = lambda string, i: string.replace(string[i],\"\",1)\n",
    "i = 3\n",
    "print(f'after removing {i}th character from \\\"{string}\" it becomes: {remove_char(string,i)}')\n",
    "\n",
    "#way 2\n",
    "remove_char1 = lambda a, i: a[:i] + a[i+1:]\n",
    "i = 3\n",
    "print(f'after removing {i}th character from \\\"{string}\" it becomes: {remove_char1(string,i)}')"
   ]
  },
  {
   "cell_type": "markdown",
   "metadata": {},
   "source": [
    "Q3) Write a Python program to split and join a string?"
   ]
  },
  {
   "cell_type": "code",
   "execution_count": 3,
   "metadata": {},
   "outputs": [
    {
     "name": "stdout",
     "output_type": "stream",
     "text": [
      "I loove Shawerma after split and join is: I❤️loove❤️Shawerma\n"
     ]
    }
   ],
   "source": [
    "print(f'{string} after split and join is: {\"❤️\".join(string.split())}')"
   ]
  },
  {
   "cell_type": "markdown",
   "metadata": {},
   "source": [
    "Q4) Write a Python to check if a given string is binary string or not?"
   ]
  },
  {
   "cell_type": "code",
   "execution_count": 4,
   "metadata": {},
   "outputs": [
    {
     "name": "stdout",
     "output_type": "stream",
     "text": [
      "100010 is binary? True\n"
     ]
    }
   ],
   "source": [
    "binary = {'0','1'}\n",
    "string_binary = \"100010\"\n",
    "check_binary = lambda a: set(a) == binary\n",
    "print(f'{string_binary} is binary? {check_binary(string_binary)}')"
   ]
  },
  {
   "cell_type": "markdown",
   "metadata": {},
   "source": [
    "Q5) Write a Python program to find uncommon words from two Strings?"
   ]
  },
  {
   "cell_type": "code",
   "execution_count": 5,
   "metadata": {},
   "outputs": [
    {
     "name": "stdout",
     "output_type": "stream",
     "text": [
      "{'mix', 'chicken', 'double'}\n",
      "['double', 'mix', 'chicken']\n"
     ]
    }
   ],
   "source": [
    "ahmad = \"double mix shawerma with cheese\"\n",
    "masa = \"chicken shawerma with cheese\"\n",
    "\n",
    "#way 1\n",
    "uncommon_words = set(ahmad.split()).symmetric_difference(masa.split())\n",
    "print(f'{uncommon_words}')\n",
    "\n",
    "#way 2\n",
    "#cover the case of duplicates in each sentences\n",
    "def find_uncommon(a, b):\n",
    "    dictt = {}\n",
    "    for i in a.split():\n",
    "        dictt[i] = dictt.get(i, 0) + 1\n",
    "    for i in b.split():\n",
    "        dictt[i] = dictt.get(i, 0) + 1\n",
    "    return [i for i,k in dictt.items() if k==1]\n",
    "\n",
    "print(f'{find_uncommon(ahmad,masa)}')"
   ]
  },
  {
   "cell_type": "markdown",
   "metadata": {},
   "source": [
    "Q6) Write a Python to find all duplicate characters in string?"
   ]
  },
  {
   "cell_type": "code",
   "execution_count": 7,
   "metadata": {},
   "outputs": [
    {
     "name": "stdout",
     "output_type": "stream",
     "text": [
      "['a', ' ']\n",
      "['a', ' ']\n"
     ]
    }
   ],
   "source": [
    "#way 1\n",
    "\n",
    "def find_duplicates(string):\n",
    "    from collections import Counter\n",
    "    elements  = Counter(string)\n",
    "    return [i for i,k in elements.items() if k>1]\n",
    "\n",
    "string = \"Masa and Shawerma\"\n",
    "print(f'{find_duplicates(string)}')\n",
    "\n",
    "#way 2 \n",
    "def find_duplicates1(string):\n",
    "    dictt = {}\n",
    "    for i in string:\n",
    "        dictt[i] = dictt.get(i,0) + 1\n",
    "\n",
    "\n",
    "    return [i for i,k in dictt.items() if k >1]\n",
    "\n",
    "string = \"Masa and Shawerma\"\n",
    "print(f'{find_duplicates1(string)}')"
   ]
  },
  {
   "cell_type": "markdown",
   "metadata": {},
   "source": [
    "Q7) Write a Python Program to check if a string contains any special character?"
   ]
  },
  {
   "cell_type": "code",
   "execution_count": 8,
   "metadata": {},
   "outputs": [
    {
     "name": "stdout",
     "output_type": "stream",
     "text": [
      "is there special characters in \"Do you % $awerma?\": True\n"
     ]
    }
   ],
   "source": [
    "special_chars = \" !\\\"#$%&'()*+,-./:;<=>?@[\\]^_`{|}~\"\n",
    "question = \"Do you % $awerma?\"\n",
    "check_special_chars = lambda a: any(char in a for char in special_chars)\n",
    "print(f'is there special characters in \"{question}\": {bool(check_special_chars)}')"
   ]
  }
 ],
 "metadata": {
  "kernelspec": {
   "display_name": "Python 3",
   "language": "python",
   "name": "python3"
  },
  "language_info": {
   "codemirror_mode": {
    "name": "ipython",
    "version": 3
   },
   "file_extension": ".py",
   "mimetype": "text/x-python",
   "name": "python",
   "nbconvert_exporter": "python",
   "pygments_lexer": "ipython3",
   "version": "3.8.5"
  }
 },
 "nbformat": 4,
 "nbformat_minor": 4
}
